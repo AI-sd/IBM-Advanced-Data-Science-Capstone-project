{
 "cells": [
  {
   "cell_type": "code",
   "execution_count": 1,
   "metadata": {},
   "outputs": [
    {
     "name": "stderr",
     "output_type": "stream",
     "text": [
      "Using TensorFlow backend.\n"
     ]
    }
   ],
   "source": [
    "import tensorflow as tf\n",
    "from tensorflow import keras\n",
    "\n",
    "from keras.layers import Dense, Input, Conv2D, LSTM, MaxPool2D, UpSampling2D\n",
    "from sklearn.model_selection import train_test_split\n",
    "from keras.callbacks import EarlyStopping\n",
    "from keras.utils import to_categorical\n",
    "from numpy import argmax, array_equal\n",
    "import matplotlib.pyplot as plt\n",
    "from keras.models import Model\n",
    "from imgaug import augmenters\n",
    "from random import randint\n",
    "import pandas as pd\n",
    "import numpy as np\n",
    "import seaborn as sns"
   ]
  },
  {
   "cell_type": "code",
   "execution_count": 2,
   "metadata": {},
   "outputs": [],
   "source": [
    "import missingno as msno\n",
    "%matplotlib inline"
   ]
  },
  {
   "cell_type": "code",
   "execution_count": 3,
   "metadata": {},
   "outputs": [],
   "source": [
    "import sklearn.linear_model as lm"
   ]
  },
  {
   "cell_type": "code",
   "execution_count": 4,
   "metadata": {},
   "outputs": [],
   "source": [
    "from sklearn.tree import DecisionTreeClassifier\n",
    "from sklearn.ensemble import RandomForestClassifier\n",
    "from sklearn.model_selection import train_test_split, KFold\n",
    "from sklearn.preprocessing import StandardScaler, label_binarize\n",
    "from sklearn.metrics import accuracy_score,confusion_matrix,roc_curve, auc, f1_score, precision_score, recall_score\n",
    "from sklearn.svm import SVC"
   ]
  },
  {
   "cell_type": "code",
   "execution_count": 5,
   "metadata": {},
   "outputs": [
    {
     "data": {
      "text/html": [
       "<div>\n",
       "<style scoped>\n",
       "    .dataframe tbody tr th:only-of-type {\n",
       "        vertical-align: middle;\n",
       "    }\n",
       "\n",
       "    .dataframe tbody tr th {\n",
       "        vertical-align: top;\n",
       "    }\n",
       "\n",
       "    .dataframe thead th {\n",
       "        text-align: right;\n",
       "    }\n",
       "</style>\n",
       "<table border=\"1\" class=\"dataframe\">\n",
       "  <thead>\n",
       "    <tr style=\"text-align: right;\">\n",
       "      <th></th>\n",
       "      <th>age</th>\n",
       "      <th>job</th>\n",
       "      <th>marital</th>\n",
       "      <th>education</th>\n",
       "      <th>default</th>\n",
       "      <th>balance</th>\n",
       "      <th>housing</th>\n",
       "      <th>loan</th>\n",
       "      <th>y</th>\n",
       "    </tr>\n",
       "  </thead>\n",
       "  <tbody>\n",
       "    <tr>\n",
       "      <td>0</td>\n",
       "      <td>59</td>\n",
       "      <td>admin.</td>\n",
       "      <td>married</td>\n",
       "      <td>secondary</td>\n",
       "      <td>no</td>\n",
       "      <td>2343</td>\n",
       "      <td>yes</td>\n",
       "      <td>no</td>\n",
       "      <td>yes</td>\n",
       "    </tr>\n",
       "    <tr>\n",
       "      <td>1</td>\n",
       "      <td>56</td>\n",
       "      <td>admin.</td>\n",
       "      <td>married</td>\n",
       "      <td>secondary</td>\n",
       "      <td>no</td>\n",
       "      <td>45</td>\n",
       "      <td>no</td>\n",
       "      <td>no</td>\n",
       "      <td>yes</td>\n",
       "    </tr>\n",
       "    <tr>\n",
       "      <td>2</td>\n",
       "      <td>41</td>\n",
       "      <td>technician</td>\n",
       "      <td>married</td>\n",
       "      <td>secondary</td>\n",
       "      <td>no</td>\n",
       "      <td>1270</td>\n",
       "      <td>yes</td>\n",
       "      <td>no</td>\n",
       "      <td>yes</td>\n",
       "    </tr>\n",
       "    <tr>\n",
       "      <td>3</td>\n",
       "      <td>55</td>\n",
       "      <td>services</td>\n",
       "      <td>married</td>\n",
       "      <td>secondary</td>\n",
       "      <td>no</td>\n",
       "      <td>2476</td>\n",
       "      <td>yes</td>\n",
       "      <td>no</td>\n",
       "      <td>yes</td>\n",
       "    </tr>\n",
       "    <tr>\n",
       "      <td>4</td>\n",
       "      <td>54</td>\n",
       "      <td>admin.</td>\n",
       "      <td>married</td>\n",
       "      <td>tertiary</td>\n",
       "      <td>no</td>\n",
       "      <td>184</td>\n",
       "      <td>no</td>\n",
       "      <td>no</td>\n",
       "      <td>yes</td>\n",
       "    </tr>\n",
       "  </tbody>\n",
       "</table>\n",
       "</div>"
      ],
      "text/plain": [
       "   age         job  marital  education default  balance housing loan    y\n",
       "0   59      admin.  married  secondary      no     2343     yes   no  yes\n",
       "1   56      admin.  married  secondary      no       45      no   no  yes\n",
       "2   41  technician  married  secondary      no     1270     yes   no  yes\n",
       "3   55    services  married  secondary      no     2476     yes   no  yes\n",
       "4   54      admin.  married   tertiary      no      184      no   no  yes"
      ]
     },
     "execution_count": 5,
     "metadata": {},
     "output_type": "execute_result"
    }
   ],
   "source": [
    "data = pd.read_csv(\"C:/Users/user/Desktop/Anaconda33/bank-additional-full222.csv\")\n",
    "data.head()"
   ]
  },
  {
   "cell_type": "code",
   "execution_count": 6,
   "metadata": {},
   "outputs": [
    {
     "name": "stdout",
     "output_type": "stream",
     "text": [
      "age          0\n",
      "job          0\n",
      "marital      0\n",
      "education    0\n",
      "default      0\n",
      "balance      0\n",
      "housing      0\n",
      "loan         0\n",
      "y            0\n",
      "dtype: int64\n"
     ]
    }
   ],
   "source": [
    "print(data.isnull().sum())"
   ]
  },
  {
   "cell_type": "code",
   "execution_count": null,
   "metadata": {},
   "outputs": [],
   "source": [
    "numeric_features = data.select_dtypes(include=[np.number])\n",
    "\n",
    "numeric_features.columns"
   ]
  },
  {
   "cell_type": "code",
   "execution_count": null,
   "metadata": {},
   "outputs": [],
   "source": [
    "categorical_features = data.select_dtypes(include=[np.object])\n",
    "categorical_features.columns"
   ]
  },
  {
   "cell_type": "code",
   "execution_count": null,
   "metadata": {},
   "outputs": [],
   "source": [
    "data.describe()"
   ]
  },
  {
   "cell_type": "code",
   "execution_count": null,
   "metadata": {},
   "outputs": [],
   "source": [
    "data1 = data[data['y'] == 'yes']\n",
    "data2 = data[data['y'] == 'no']"
   ]
  },
  {
   "cell_type": "code",
   "execution_count": null,
   "metadata": {},
   "outputs": [],
   "source": [
    "data['y'].value_counts()"
   ]
  },
  {
   "cell_type": "code",
   "execution_count": null,
   "metadata": {},
   "outputs": [],
   "source": [
    "numeric_df = data.select_dtypes(exclude=\"object\")"
   ]
  },
  {
   "cell_type": "code",
   "execution_count": null,
   "metadata": {},
   "outputs": [],
   "source": [
    "corr_numeric = numeric_df.corr()\n",
    "\n",
    "sns.heatmap(corr_numeric, cbar=True, cmap=\"YlGnBu\")\n",
    "plt.title(\"Correlation Matrix\", fontsize=16)\n",
    "plt.show()"
   ]
  },
  {
   "cell_type": "code",
   "execution_count": 14,
   "metadata": {},
   "outputs": [],
   "source": [
    "df1 = data[['age','balance','y']]\n",
    "sns.pairplot(df1, kind=\"scatter\",hue=\"y\",palette=\"Set2\")\n",
    "plt.show()"
   ]
  },
  {
   "cell_type": "code",
   "execution_count": null,
   "metadata": {},
   "outputs": [],
   "source": [
    "fig1, ax = plt.subplots(1, 2, figsize=(12,14))\n",
    "\n",
    "a1=ax[0].bar(data1['job'].unique(),height = data1['job'].value_counts(),color='#3cb44b')\n",
    "a2=ax[0].bar(data1['job'].unique(),height = data2['job'].value_counts()[data1['job'].value_counts().index],bottom = data1['job'].value_counts(),color = '#aaffc3') \n",
    "ax[0].title.set_text('Type of Job')\n",
    "ax[0].tick_params(axis='x',rotation=90)\n",
    "\n",
    "\n",
    "ax[1].bar(data1['housing'].unique(),height = data1['housing'].value_counts(),color='#3cb44b')\n",
    "ax[1].bar(data1['housing'].unique(),height = data2['housing'].value_counts()[data1['housing'].value_counts().index],bottom = data1['housing'].value_counts(),color = '#aaffc3') \n",
    "ax[1].title.set_text('Has housing loan')\n",
    "\n",
    "\n",
    "plt.figlegend((a1[0], a2[0]), ('Yes', 'No'),loc=\"right\",title = \"Term deposit\")\n",
    "plt.show()\n"
   ]
  },
  {
   "cell_type": "code",
   "execution_count": null,
   "metadata": {},
   "outputs": [],
   "source": [
    "fig2, ax = plt.subplots(1, 2, figsize=(12,14))\n",
    "\n",
    "a1=ax[0].bar(data1['default'].unique(),height = data1['default'].value_counts(),color='#3cb44b')\n",
    "a2=ax[0].bar(data1['default'].unique(),height = data2['default'].value_counts()[data1['default'].value_counts().index],bottom = data1['default'].value_counts(),color = '#aaffc3') \n",
    "ax[0].title.set_text('Has credit in default')\n",
    "ax[0].tick_params(axis='x',rotation=90)\n",
    "\n",
    "\n",
    "ax[1].bar(data1['education'].unique(),height = data1['education'].value_counts(),color='#3cb44b') #row=0, col=1\n",
    "ax[1].bar(data1['education'].unique(),height = data2['education'].value_counts()[data1['education'].value_counts().index],bottom = data1['education'].value_counts(),color = '#aaffc3') \n",
    "ax[1].title.set_text('Education')\n",
    "ax[1].tick_params(axis='x',rotation=90)\n",
    "\n",
    "plt.figlegend((a1[0], a2[0]), ('Yes', 'No'),loc=\"right\",title = \"Term deposit\")\n",
    "plt.show()\n"
   ]
  },
  {
   "cell_type": "code",
   "execution_count": 12,
   "metadata": {},
   "outputs": [],
   "source": [
    "predictors = data.iloc[:,0:8]\n",
    "predictors1=data[['age', 'balance']]\n",
    "y = data.iloc[:,8]\n",
    "X = pd.get_dummies(predictors) #One hot encoder\n",
    "X1=predictors1"
   ]
  },
  {
   "cell_type": "code",
   "execution_count": null,
   "metadata": {},
   "outputs": [],
   "source": [
    "y.head()"
   ]
  },
  {
   "cell_type": "code",
   "execution_count": null,
   "metadata": {},
   "outputs": [],
   "source": [
    "X.head()"
   ]
  },
  {
   "cell_type": "code",
   "execution_count": 11,
   "metadata": {},
   "outputs": [
    {
     "ename": "NameError",
     "evalue": "name 'X' is not defined",
     "output_type": "error",
     "traceback": [
      "\u001b[1;31m---------------------------------------------------------------------------\u001b[0m",
      "\u001b[1;31mNameError\u001b[0m                                 Traceback (most recent call last)",
      "\u001b[1;32m<ipython-input-11-ff9591871adc>\u001b[0m in \u001b[0;36m<module>\u001b[1;34m\u001b[0m\n\u001b[1;32m----> 1\u001b[1;33m \u001b[0mX_train\u001b[0m\u001b[1;33m,\u001b[0m \u001b[0mX_test\u001b[0m\u001b[1;33m,\u001b[0m \u001b[0my_train\u001b[0m\u001b[1;33m,\u001b[0m \u001b[0my_test\u001b[0m \u001b[1;33m=\u001b[0m \u001b[0mtrain_test_split\u001b[0m\u001b[1;33m(\u001b[0m\u001b[0mX\u001b[0m\u001b[1;33m,\u001b[0m \u001b[0my\u001b[0m\u001b[1;33m,\u001b[0m \u001b[0mtest_size\u001b[0m\u001b[1;33m=\u001b[0m\u001b[1;36m0.3\u001b[0m\u001b[1;33m)\u001b[0m\u001b[1;33m\u001b[0m\u001b[1;33m\u001b[0m\u001b[0m\n\u001b[0m\u001b[0;32m      2\u001b[0m \u001b[0mmodel\u001b[0m \u001b[1;33m=\u001b[0m \u001b[0mlm\u001b[0m\u001b[1;33m.\u001b[0m\u001b[0mLogisticRegression\u001b[0m\u001b[1;33m(\u001b[0m\u001b[0mrandom_state\u001b[0m\u001b[1;33m=\u001b[0m\u001b[1;36m0\u001b[0m\u001b[1;33m,\u001b[0m \u001b[0msolver\u001b[0m\u001b[1;33m=\u001b[0m\u001b[1;34m'lbfgs'\u001b[0m\u001b[1;33m,\u001b[0m\u001b[0mmulti_class\u001b[0m\u001b[1;33m=\u001b[0m\u001b[1;34m'auto'\u001b[0m\u001b[1;33m,\u001b[0m\u001b[0mmax_iter\u001b[0m\u001b[1;33m=\u001b[0m\u001b[1;36m1000\u001b[0m\u001b[1;33m)\u001b[0m\u001b[1;33m.\u001b[0m\u001b[0mfit\u001b[0m\u001b[1;33m(\u001b[0m\u001b[0mX_train\u001b[0m\u001b[1;33m,\u001b[0m\u001b[0my_train\u001b[0m\u001b[1;33m)\u001b[0m\u001b[1;33m\u001b[0m\u001b[1;33m\u001b[0m\u001b[0m\n\u001b[0;32m      3\u001b[0m \u001b[0my_pred\u001b[0m \u001b[1;33m=\u001b[0m \u001b[0mmodel\u001b[0m\u001b[1;33m.\u001b[0m\u001b[0mpredict_proba\u001b[0m\u001b[1;33m(\u001b[0m\u001b[0mX_test\u001b[0m\u001b[1;33m)\u001b[0m\u001b[1;33m\u001b[0m\u001b[1;33m\u001b[0m\u001b[0m\n\u001b[0;32m      4\u001b[0m \u001b[0my_pred\u001b[0m \u001b[1;33m=\u001b[0m \u001b[0my_pred\u001b[0m\u001b[1;33m[\u001b[0m\u001b[1;33m:\u001b[0m\u001b[1;33m,\u001b[0m\u001b[1;36m1\u001b[0m\u001b[1;33m]\u001b[0m\u001b[1;33m\u001b[0m\u001b[1;33m\u001b[0m\u001b[0m\n\u001b[0;32m      5\u001b[0m \u001b[0my_test1\u001b[0m\u001b[1;33m=\u001b[0m\u001b[0my_test\u001b[0m\u001b[1;33m\u001b[0m\u001b[1;33m\u001b[0m\u001b[0m\n",
      "\u001b[1;31mNameError\u001b[0m: name 'X' is not defined"
     ]
    }
   ],
   "source": [
    "X_train, X_test, y_train, y_test = train_test_split(X, y, test_size=0.3)\n",
    "model = lm.LogisticRegression(random_state=0, solver='lbfgs',multi_class='auto',max_iter=1000).fit(X_train,y_train)\n",
    "y_pred = model.predict_proba(X_test)\n",
    "y_pred = y_pred[:,1]\n",
    "y_test1=y_test\n",
    "y_test = label_binarize(y_test,classes=['no','yes'])\n",
    "fpr_lr, tpr_lr, _ = roc_curve(y_test, y_pred)\n",
    "roc_auc_lr = auc(fpr_lr, tpr_lr)\n",
    "y_pred = model.predict(X_test)\n",
    "y_pred1=y_pred\n",
    "y_pred = label_binarize(y_pred,classes=['no','yes'])\n",
    "print(\"Precision: \",round(precision_score(y_test,y_pred),2),\"Recall: \",round(recall_score(y_test,y_pred),2))\n",
    "print(\"AUC: \",roc_auc_lr)\n",
    "mat = confusion_matrix(y_test1,y_pred1,labels=['no','yes'])\n",
    "print(mat)"
   ]
  },
  {
   "cell_type": "code",
   "execution_count": null,
   "metadata": {},
   "outputs": [],
   "source": [
    "import statsmodels.api as sm\n",
    "X_train, X_test, y_train, y_test = train_test_split(X1, y, test_size=0.3)\n",
    "y_train = label_binarize(y_train,classes=['no','yes'])\n",
    "logit_model=sm.OLS(y_train,X_train)\n",
    "result=logit_model.fit()\n",
    "print(result.summary())"
   ]
  },
  {
   "cell_type": "code",
   "execution_count": null,
   "metadata": {},
   "outputs": [],
   "source": [
    "X_train, X_test, y_train, y_test = train_test_split(X, y, test_size=0.3)\n",
    "tree = DecisionTreeClassifier(criterion=\"entropy\", max_depth=7)\n",
    "model = tree.fit(X_train,y_train)\n",
    "y_pred = model.predict(X_test)\n",
    "y_test1=y_test\n",
    "y_pred1=y_pred\n",
    "y_test = label_binarize(y_test,classes=['no','yes'])\n",
    "y_pred = label_binarize(y_pred,classes=['no','yes'])\n",
    "fpr_dr, tpr_dr, _ = roc_curve(y_test, y_pred)\n",
    "roc_auc_dr = auc(fpr_dr, tpr_dr)\n",
    "print(\"Precision: \",round(precision_score(y_test,y_pred),2),\"Recall: \",round(recall_score(y_test,y_pred),2))\n",
    "print(\"AUC: \",roc_auc_dr)\n",
    "mat = confusion_matrix(y_test1,y_pred1,labels=['no','yes'])\n",
    "print(mat)"
   ]
  },
  {
   "cell_type": "code",
   "execution_count": null,
   "metadata": {},
   "outputs": [],
   "source": [
    "X_train, X_test, y_train, y_test = train_test_split(X, y, test_size=0.3)\n",
    "forest = RandomForestClassifier(n_estimators= 1000,criterion=\"gini\", max_depth=5,min_samples_split = 0.4,min_samples_leaf=1, class_weight=\"balanced\")\n",
    "model = forest.fit(X_train,y_train)\n",
    "y_pred = model.predict(X_test)\n",
    "pd.Series(y_pred).value_counts()\n",
    "y_test1=y_test\n",
    "y_pred1=y_pred\n",
    "y_test = label_binarize(y_test,classes=['no','yes'])\n",
    "y_pred = label_binarize(y_pred,classes=['no','yes'])\n",
    "fpr_rf, tpr_rf, _ = roc_curve(y_test, y_pred)\n",
    "roc_auc_rf = auc(fpr_rf, tpr_rf)\n",
    "print(\"Precision: \",round(precision_score(y_test,y_pred),2),\"Recall: \",round(recall_score(y_test,y_pred),2))\n",
    "print(\"AUC: \",roc_auc_rf)\n",
    "mat = confusion_matrix(y_test1,y_pred1,labels=['no','yes'])\n",
    "print(mat)"
   ]
  },
  {
   "cell_type": "code",
   "execution_count": null,
   "metadata": {},
   "outputs": [],
   "source": [
    "from sklearn.neighbors import KNeighborsClassifier\n",
    "from sklearn.model_selection import cross_val_score\n",
    "X_train, X_test, y_train, y_test = train_test_split(X, y, test_size=0.3)\n",
    "knn_clf = KNeighborsClassifier(n_neighbors=5)\n",
    "model=knn_clf.fit(X_train,y_train)\n",
    "y_pred = model.predict(X_test)\n",
    "pd.Series(y_pred).value_counts()\n",
    "y_test1=y_test\n",
    "y_pred1=y_pred\n",
    "y_test = label_binarize(y_test,classes=['no','yes'])\n",
    "y_pred = label_binarize(y_pred,classes=['no','yes'])\n",
    "fpr_knn, tpr_knn, _ = roc_curve(y_test, y_pred)\n",
    "roc_auc_knn = auc(fpr_knn, tpr_knn)\n",
    "print(\"Precision: \",round(precision_score(y_test,y_pred),2),\"Recall: \",round(recall_score(y_test,y_pred),2))\n",
    "print(\"AUC: \",roc_auc_knn)\n",
    "mat = confusion_matrix(y_test1,y_pred1,labels=['no','yes'])\n",
    "print(mat)"
   ]
  },
  {
   "cell_type": "code",
   "execution_count": null,
   "metadata": {},
   "outputs": [],
   "source": [
    "plt.figure()\n",
    "lw=2\n",
    "\n",
    "plt.plot(fpr_lr, tpr_lr,\n",
    "         label='Logistic regression ROC curve (area = {0:0.4f})'\n",
    "               ''.format(roc_auc_lr),\n",
    "         color='deeppink', linestyle=':', linewidth=2)\n",
    "\n",
    "plt.plot(fpr_rf, tpr_rf,\n",
    "         label='Random forest ROC curve (area = {0:0.4f})'\n",
    "               ''.format(roc_auc_rf),\n",
    "         color='blue', linestyle=':', linewidth=2)\n",
    "\n",
    "plt.plot(fpr_knn, tpr_knn,\n",
    "         label='KNN ROC curve (area = {0:0.4f})'\n",
    "               ''.format(roc_auc_knn),\n",
    "         color='red', linestyle=':', linewidth=2)\n",
    "         \n",
    "plt.plot(fpr_dr, tpr_dr,\n",
    "         label='Decision tree ROC curve (area = {0:0.4f})'\n",
    "               ''.format(roc_auc_dr),\n",
    "         color='green', linestyle=':', linewidth=2)\n",
    "\n",
    "plt.plot([0, 1], [0, 1], color='navy', lw=lw, linestyle='--')\n",
    "plt.xlim([0.0, 1.0])\n",
    "plt.ylim([0.0, 1.00])\n",
    "plt.xlabel('False Positive Rate')\n",
    "plt.ylabel('True Positive Rate')\n",
    "plt.title('Receiver operating characteristic example')\n",
    "\n",
    "plt.legend(bbox_to_anchor=(1, 0.5))\n",
    "\n",
    "#plt.legend(loc=\"lower right\")\n"
   ]
  },
  {
   "cell_type": "code",
   "execution_count": null,
   "metadata": {},
   "outputs": [],
   "source": [
    "X_train, X_test, y_train, y_test = train_test_split(X, y, test_size=0.3)\n",
    "sc = StandardScaler()\n",
    "sc.fit(X_train)\n",
    "X_train_std = sc.transform(X_train)\n",
    "X_test_std = sc.transform(X_test)\n",
    "perp_model = lm.Perceptron().fit(X_train_std,y_train)\n",
    "y_pred = perp_model.predict(X_test_std)\n",
    "print(\"Accuracy: \",round(accuracy_score(y_test, y_pred),2))\n",
    "pd.Series(y_pred).value_counts()\n",
    "mat = confusion_matrix(y_test,y_pred,labels=['no','yes'])\n",
    "print(mat)\n",
    "y_test = label_binarize(y_test,classes=['no','yes'])\n",
    "y_pred = label_binarize(y_pred,classes=['no','yes'])\n",
    "print(\"Precision: \",round(precision_score(y_test,y_pred),2),\"Recall: \",round(recall_score(y_test,y_pred),2))"
   ]
  },
  {
   "cell_type": "code",
   "execution_count": null,
   "metadata": {},
   "outputs": [],
   "source": [
    "from sklearn.neural_network import MLPClassifier\n",
    "X_train, X_test, y_train, y_test = train_test_split(X, y, test_size=0.3)\n",
    "sc = StandardScaler()\n",
    "sc.fit(X_train)\n",
    "X_train_std = sc.transform(X_train)\n",
    "X_test_std = sc.transform(X_test)\n",
    "clf = MLPClassifier(solver='lbfgs', alpha=1e-5, hidden_layer_sizes=(5, 2), random_state=1)\n",
    "clf_model=clf.fit(X_train_std, y_train)\n",
    "y_pred = clf_model.predict(X_test_std)\n",
    "print(\"Accuracy: \",round(accuracy_score(y_test, y_pred),2))\n",
    "pd.Series(y_pred).value_counts()\n",
    "mat = confusion_matrix(y_test,y_pred,labels=['no','yes'])\n",
    "print(mat)\n",
    "y_test = label_binarize(y_test,classes=['no','yes'])\n",
    "y_pred = label_binarize(y_pred,classes=['no','yes'])\n",
    "print(\"Precision: \",round(precision_score(y_test,y_pred),2),\"Recall: \",round(recall_score(y_test,y_pred),2))"
   ]
  },
  {
   "cell_type": "code",
   "execution_count": null,
   "metadata": {},
   "outputs": [],
   "source": [
    "import pixiedust\n",
    "dataX=pixiedust.sampleData(1)"
   ]
  },
  {
   "cell_type": "code",
   "execution_count": null,
   "metadata": {},
   "outputs": [],
   "source": [
    "dataX"
   ]
  },
  {
   "cell_type": "code",
   "execution_count": null,
   "metadata": {},
   "outputs": [],
   "source": [
    "data_url = \"https://data.cityofnewyork.us/api/views/e98g-f8hy/rows.csv?accessType=DOWNLOAD\"\n",
    "building_dataframe = pixiedust.sampleData(data_url,\n",
    "forcePandas=True)"
   ]
  },
  {
   "cell_type": "code",
   "execution_count": 7,
   "metadata": {},
   "outputs": [
    {
     "name": "stdout",
     "output_type": "stream",
     "text": [
      "Pixiedust database opened successfully\n"
     ]
    },
    {
     "data": {
      "text/html": [
       "\n",
       "        <div style=\"margin:10px\">\n",
       "            <a href=\"https://github.com/ibm-watson-data-lab/pixiedust\" target=\"_new\">\n",
       "                <img src=\"https://github.com/ibm-watson-data-lab/pixiedust/raw/master/docs/_static/pd_icon32.png\" style=\"float:left;margin-right:10px\"/>\n",
       "            </a>\n",
       "            <span>Pixiedust version 1.1.18</span>\n",
       "        </div>\n",
       "        "
      ],
      "text/plain": [
       "<IPython.core.display.HTML object>"
      ]
     },
     "metadata": {},
     "output_type": "display_data"
    }
   ],
   "source": [
    "import pixiedust\n",
    "\n",
    "#london_info = pixiedust.sampleData(\"https://files.datapress.com/london/dataset/london-borough-profiles/2015-09-24T15:50:01/London-boroughprofiles.zip\")"
   ]
  },
  {
   "cell_type": "code",
   "execution_count": null,
   "metadata": {},
   "outputs": [],
   "source": [
    "#import bokeh"
   ]
  },
  {
   "cell_type": "code",
   "execution_count": null,
   "metadata": {},
   "outputs": [],
   "source": [
    "#from bokeh.plotting import figure, show, output_file"
   ]
  },
  {
   "cell_type": "code",
   "execution_count": null,
   "metadata": {
    "pixiedust": {
     "displayParams": {
      "handlerId": "tableView"
     }
    }
   },
   "outputs": [],
   "source": [
    "#a=figure()\n",
    "#a.legend.location = \"top_left\"\n"
   ]
  },
  {
   "cell_type": "code",
   "execution_count": 10,
   "metadata": {
    "pixiedust": {
     "displayParams": {
      "aggregation": "COUNT",
      "chartsize": "76",
      "charttype": "grouped",
      "clusterby": "y",
      "color": "y",
      "handlerId": "scatterPlot",
      "keyFields": "age",
      "kind": "scatter",
      "legend": "true",
      "mpld3": "false",
      "rendererId": "bokeh",
      "rowCount": "1000",
      "table_showrows": "All",
      "valueFields": "balance"
     }
    }
   },
   "outputs": [
    {
     "data": {
      "text/html": [
       "<style type=\"text/css\">.pd_warning{display:none;}</style><div class=\"pd_warning\"><em>Hey, there's something awesome here! To see it, open this notebook outside GitHub, in a viewer like Jupyter</em></div>\n",
       "        <div class=\"pd_save is-viewer-good\" style=\"padding-right:10px;text-align: center;line-height:initial !important;font-size: xx-large;font-weight: 500;color: coral;\">\n",
       "            \n",
       "        </div>\n",
       "    <div id=\"chartFigure77db9002\" class=\"pd_save is-viewer-good\" style=\"overflow-x:auto\">\n",
       "            \n",
       "                    <script class=\"pd_save\">\n",
       "                    function setChartScript() {\n",
       "                        if (!window.Bokeh) {\n",
       "                            setTimeout(setChartScript, 250)\n",
       "                        } else {\n",
       "                            var d = document.getElementById(\"pd-bkchartdiv-77db9002\")\n",
       "                            if (d){\n",
       "                                var el = document.createElement('div')\n",
       "                                el.innerHTML = `\n",
       "<script type=\"text/javascript\">\n",
       "  (function() {\n",
       "    var fn = function() {\n",
       "      Bokeh.safely(function() {\n",
       "        (function(root) {\n",
       "          function embed_document(root) {\n",
       "            \n",
       "          var docs_json = '{\"550e6159-47a7-4205-90e1-d435e8b01155\":{\"roots\":{\"references\":[{\"attributes\":{\"label\":{\"value\":\"no\"},\"renderers\":[{\"id\":\"3589\",\"type\":\"GlyphRenderer\"}]},\"id\":\"3599\",\"type\":\"LegendItem\"},{\"attributes\":{\"below\":[{\"id\":\"3563\",\"type\":\"LinearAxis\"}],\"center\":[{\"id\":\"3567\",\"type\":\"Grid\"},{\"id\":\"3572\",\"type\":\"Grid\"},{\"id\":\"3598\",\"type\":\"Legend\"}],\"left\":[{\"id\":\"3568\",\"type\":\"LinearAxis\"}],\"plot_height\":450,\"plot_width\":604,\"renderers\":[{\"id\":\"3589\",\"type\":\"GlyphRenderer\"},{\"id\":\"3603\",\"type\":\"GlyphRenderer\"}],\"title\":{\"id\":\"3592\",\"type\":\"Title\"},\"toolbar\":{\"id\":\"3579\",\"type\":\"Toolbar\"},\"x_range\":{\"id\":\"3555\",\"type\":\"DataRange1d\"},\"x_scale\":{\"id\":\"3559\",\"type\":\"LinearScale\"},\"y_range\":{\"id\":\"3557\",\"type\":\"DataRange1d\"},\"y_scale\":{\"id\":\"3561\",\"type\":\"LinearScale\"}},\"id\":\"3554\",\"subtype\":\"Figure\",\"type\":\"Plot\"},{\"attributes\":{\"fill_alpha\":{\"value\":0.1},\"fill_color\":{\"value\":\"#1f77b4\"},\"line_alpha\":{\"value\":0.1},\"line_color\":{\"value\":\"#1f77b4\"},\"size\":{\"units\":\"screen\",\"value\":8},\"x\":{\"field\":\"x\"},\"y\":{\"field\":\"y\"}},\"id\":\"3588\",\"type\":\"Circle\"},{\"attributes\":{\"source\":{\"id\":\"3600\",\"type\":\"ColumnDataSource\"}},\"id\":\"3604\",\"type\":\"CDSView\"},{\"attributes\":{\"callback\":null,\"data\":{\"x\":[18,19,20,20,20,20,21,22,22,23,23,23,23,23,23,24,24,24,24,24,24,24,24,25,25,25,25,25,25,25,25,26,26,26,26,26,26,26,26,26,27,27,27,27,27,27,27,27,27,28,28,28,28,28,28,28,28,28,28,28,28,28,28,29,29,29,29,29,29,29,29,29,29,29,29,29,29,29,29,29,30,30,30,30,30,30,30,30,30,30,30,30,30,30,30,30,30,30,30,30,30,30,30,30,30,30,30,30,30,30,30,31,31,31,31,31,31,31,31,31,31,31,31,31,31,31,31,31,31,31,31,31,31,31,31,31,32,32,32,32,32,32,32,32,32,32,32,32,32,32,32,32,32,32,33,33,33,33,33,33,33,33,33,33,33,33,33,34,34,34,34,34,34,34,34,34,34,34,34,34,34,34,34,34,34,35,35,35,35,35,35,35,35,35,35,35,35,35,35,35,35,36,36,36,36,36,36,36,36,36,36,36,36,36,36,36,36,36,36,36,37,37,37,37,37,37,37,37,37,37,37,37,37,37,37,37,37,38,38,38,38,38,38,38,38,38,38,39,39,39,39,39,39,39,39,39,39,39,40,40,40,40,40,40,40,40,41,41,41,41,41,41,41,41,41,41,41,42,42,42,42,42,42,42,42,42,42,42,42,42,42,42,43,43,43,43,43,43,43,44,44,44,44,44,44,45,45,45,45,45,45,46,46,46,46,46,46,46,46,46,46,46,46,46,46,46,46,46,46,46,46,47,47,47,47,47,47,47,47,47,47,47,47,47,47,48,48,48,48,48,48,48,48,48,48,49,49,49,49,49,49,49,49,49,49,50,50,50,50,51,51,51,51,51,52,52,52,52,52,52,52,52,53,53,53,53,53,53,53,53,53,53,53,54,54,54,54,54,54,54,54,54,54,54,55,55,55,55,55,56,56,56,56,56,56,56,57,57,57,57,57,57,58,58,58,58,58,58,58,58,59,59,59,59,59,59,59,59,59,59,60,60,60,60,60,60,60,60,60,60,60,60,60,61,61,61,62,63,64,64,64,64,64,65,66,66,66,66,70,71,71,71,72,72,72,73,73,75,75,75,76,76,76,76,76,77,77,77,77,78,78,80,81,83,84,84],\"y\":[108,134,215,423,6991,1819,123,3472,216,794,4,780,107,272,381,-389,3415,2845,167,2984,689,174,1,162,108,303,2816,0,1608,483,154,1595,222,941,1006,5169,409,111,3466,2007,2486,409,265,9,643,3792,931,107,667,-7,4099,223,2736,1633,832,128,-46,387,198,3623,227,41,759,464,706,1070,9407,437,1445,1026,2870,476,0,36252,694,814,307,3290,224,339,4684,3340,48,1159,2166,302,2424,415,2371,4328,863,2145,536,3300,178,4889,8089,1028,0,297,7773,5359,914,6281,3343,158,799,655,916,201,232,3950,165,671,454,3160,59,26965,636,2910,3338,2616,144,1088,138,4198,3511,1761,360,924,196,684,-35,147,2,9421,791,121,654,131,4654,53,2340,152,311,634,769,131,136,718,-53,1026,562,819,1323,127,127,2240,409,3161,5,1636,73,114,379,616,-370,320,1076,158,182,79,0,1076,1759,634,589,0,0,575,-701,0,806,271,528,978,1201,1750,204,618,193,3623,102,2779,0,127,1792,1162,670,71,353,1177,11650,521,4844,495,-308,3221,4,0,15485,9,849,436,1822,40,393,96,0,1766,175,1113,197,2061,444,565,1291,1000,1000,238,792,62,2722,141,0,728,3326,217,226,238,508,775,19,199,3278,0,385,2983,942,2263,10685,15,0,1425,3840,2763,1047,-114,2998,334,694,2129,0,72,1535,7968,580,0,75,431,231,1077,27696,0,1,965,5517,3403,14282,970,-215,36,576,7560,94,527,684,366,0,2129,294,2611,0,2160,1612,413,3518,11891,774,250,1534,397,2557,36,982,-311,-525,7895,2552,1831,594,2466,273,536,7331,4,332,706,640,5862,149,1144,640,5511,4329,659,-522,219,-90,368,11385,66,2351,3480,405,820,3696,182,4227,8229,1996,2749,0,2408,2601,2266,1730,318,719,863,4415,5320,0,-92,50,518,5887,1946,1718,3371,5689,395,320,5802,10613,4855,4979,3608,396,0,1801,7180,1994,538,4675,2557,-468,1708,659,3687,1524,-309,1443,104,-291,109,50,980,5603,654,597,1624,1982,0,1693,8295,114,602,300,-315,2206,1561,10185,118,0,4,113,-375,962,1938,830,9367,0,1947,3391,616,3043,7554,9367,3585,2887,0,776,2538,565,3027,3109,1257,1547,25,259,4744,739,145,1,1033,496,1625,116,3648,362,0,3735,957,975,73,-71,4256,18967,1262,938,1047,259,3140,56,11,4562,1612,4787,661,466,48,5112,2331,3701,154,2540,1230,44,1696,275,1729,763,1533,0,2850,448,6027,1341,6027,4112,2693,3049,3324,802,820,3324,7802,4659,4807,3219,997,949,425,4761,0]},\"selected\":{\"id\":\"3629\",\"type\":\"Selection\"},\"selection_policy\":{\"id\":\"3630\",\"type\":\"UnionRenderers\"}},\"id\":\"3600\",\"type\":\"ColumnDataSource\"},{\"attributes\":{},\"id\":\"3630\",\"type\":\"UnionRenderers\"},{\"attributes\":{\"grid_line_alpha\":0.3,\"ticker\":{\"id\":\"3564\",\"type\":\"BasicTicker\"}},\"id\":\"3567\",\"type\":\"Grid\"},{\"attributes\":{},\"id\":\"3561\",\"type\":\"LinearScale\"},{\"attributes\":{\"overlay\":{\"id\":\"3597\",\"type\":\"BoxAnnotation\"}},\"id\":\"3575\",\"type\":\"BoxZoomTool\"},{\"attributes\":{\"fill_alpha\":{\"value\":0.1},\"fill_color\":{\"value\":\"#1f77b4\"},\"line_alpha\":{\"value\":0.1},\"line_color\":{\"value\":\"#1f77b4\"},\"size\":{\"units\":\"screen\",\"value\":8},\"x\":{\"field\":\"x\"},\"y\":{\"field\":\"y\"}},\"id\":\"3602\",\"type\":\"Circle\"},{\"attributes\":{\"fill_alpha\":{\"value\":0.5},\"fill_color\":{\"value\":\"#ff7f0e\"},\"line_color\":{\"value\":\"#ff7f0e\"},\"size\":{\"units\":\"screen\",\"value\":8},\"x\":{\"field\":\"x\"},\"y\":{\"field\":\"y\"}},\"id\":\"3601\",\"type\":\"Circle\"},{\"attributes\":{\"axis_label\":\"age\",\"formatter\":{\"id\":\"3596\",\"type\":\"BasicTickFormatter\"},\"ticker\":{\"id\":\"3564\",\"type\":\"BasicTicker\"}},\"id\":\"3563\",\"type\":\"LinearAxis\"},{\"attributes\":{},\"id\":\"3612\",\"type\":\"Selection\"},{\"attributes\":{\"fill_alpha\":{\"value\":0.5},\"fill_color\":{\"value\":\"#1f77b4\"},\"line_color\":{\"value\":\"#1f77b4\"},\"size\":{\"units\":\"screen\",\"value\":8},\"x\":{\"field\":\"x\"},\"y\":{\"field\":\"y\"}},\"id\":\"3587\",\"type\":\"Circle\"},{\"attributes\":{},\"id\":\"3577\",\"type\":\"ResetTool\"},{\"attributes\":{\"label\":{\"value\":\"yes\"},\"renderers\":[{\"id\":\"3603\",\"type\":\"GlyphRenderer\"}]},\"id\":\"3614\",\"type\":\"LegendItem\"},{\"attributes\":{\"callback\":null,\"tooltips\":[[\"age\",\"@x\"],[\"balance\",\"@y\"]]},\"id\":\"3615\",\"type\":\"HoverTool\"},{\"attributes\":{\"callback\":null},\"id\":\"3555\",\"type\":\"DataRange1d\"},{\"attributes\":{\"active_drag\":\"auto\",\"active_inspect\":\"auto\",\"active_multi\":null,\"active_scroll\":\"auto\",\"active_tap\":\"auto\",\"tools\":[{\"id\":\"3573\",\"type\":\"PanTool\"},{\"id\":\"3574\",\"type\":\"WheelZoomTool\"},{\"id\":\"3575\",\"type\":\"BoxZoomTool\"},{\"id\":\"3576\",\"type\":\"SaveTool\"},{\"id\":\"3577\",\"type\":\"ResetTool\"},{\"id\":\"3578\",\"type\":\"HelpTool\"},{\"id\":\"3615\",\"type\":\"HoverTool\"}]},\"id\":\"3579\",\"type\":\"Toolbar\"},{\"attributes\":{},\"id\":\"3576\",\"type\":\"SaveTool\"},{\"attributes\":{},\"id\":\"3559\",\"type\":\"LinearScale\"},{\"attributes\":{},\"id\":\"3594\",\"type\":\"BasicTickFormatter\"},{\"attributes\":{},\"id\":\"3596\",\"type\":\"BasicTickFormatter\"},{\"attributes\":{},\"id\":\"3578\",\"type\":\"HelpTool\"},{\"attributes\":{\"callback\":null,\"data\":{\"x\":[20,21,23,23,24,24,24,25,25,25,25,25,26,26,26,26,26,26,26,27,27,27,27,27,27,27,27,27,27,27,27,27,27,27,28,28,28,28,28,28,29,29,29,29,29,29,30,30,30,30,30,30,30,30,30,30,30,30,30,30,30,30,30,30,30,30,30,30,30,31,31,31,31,31,31,31,31,31,31,31,31,31,31,31,31,31,31,31,32,32,32,32,32,32,32,32,32,32,32,32,32,32,32,32,32,32,32,32,32,32,32,33,33,33,33,33,33,33,33,33,33,33,33,33,33,33,33,33,33,33,33,33,33,34,34,34,34,34,34,34,34,34,34,34,34,34,34,34,34,34,34,34,34,34,34,34,34,34,34,34,34,35,35,35,35,35,35,35,35,35,35,35,35,35,35,35,35,35,35,35,35,35,35,35,35,35,35,35,36,36,36,36,36,36,36,36,36,36,36,36,36,36,36,36,36,36,36,36,36,36,36,36,36,36,37,37,37,37,37,37,37,37,37,37,37,38,38,38,38,38,38,38,38,38,38,38,38,38,38,38,38,38,38,38,38,38,38,38,39,39,39,39,39,39,39,39,39,39,39,39,39,39,39,39,39,39,39,39,40,40,40,40,40,40,40,40,40,40,40,40,40,40,40,41,41,41,41,41,41,41,41,41,41,41,41,41,41,42,42,42,42,42,42,42,42,42,42,42,42,42,42,43,43,43,43,43,43,43,43,43,43,43,43,43,44,44,44,44,44,44,44,44,45,45,45,45,45,45,45,45,45,45,45,45,45,46,46,46,46,46,46,46,46,47,47,47,47,47,47,47,47,47,47,47,47,47,47,47,47,48,48,48,48,48,48,48,48,48,48,48,48,48,48,48,48,48,48,48,49,49,49,49,49,49,49,49,49,49,49,50,50,50,50,50,50,50,50,50,50,50,50,51,51,51,51,51,51,52,52,52,52,52,52,52,52,52,52,52,52,53,53,53,53,53,53,53,53,53,53,53,53,53,54,55,55,55,55,55,55,55,55,56,56,56,56,56,56,56,56,57,57,57,57,57,57,57,57,58,58,58,58,58,58,58,58,59,59,59,59,59,59,59,59,59,59,59,60,60,60,60,60,60,60,60,60,61,63,66,67,69,72,73,77,78],\"y\":[336,137,-213,2605,0,541,3,1182,220,483,628,76,-326,1327,2,2170,199,428,3247,4869,-3,454,3060,446,266,11862,16,3196,3955,139,21,7102,54,0,120,373,60,708,5215,157,111,150,242,-11,67,53,167,46,3,457,2876,2702,-27,282,426,673,0,162,134,138,1675,486,1510,13774,1649,265,-250,0,1032,424,0,1170,1308,1329,-463,6374,477,54,471,322,1129,-159,596,41,383,43,304,165,787,315,0,1349,129,71,1477,1996,253,4344,1630,-208,1097,367,258,0,240,-114,-273,833,0,337,1426,2,0,584,177,777,387,-346,5641,438,5,0,0,-306,369,7,447,348,588,480,333,867,23,5547,261,2427,664,479,46,5299,39,8,1310,105,430,17672,34,1246,27,1504,920,714,1636,179,36,1313,157,2658,3723,-292,1499,992,457,3854,354,1193,1309,120,3443,1728,183,5271,1416,1067,524,33,1054,2080,3,1800,97,0,16,4366,0,149,-482,270,1345,911,806,0,-92,191,202,4388,243,5024,243,1089,1027,0,1327,9324,0,242,810,1127,928,0,442,1898,0,1257,-666,0,796,5432,744,509,1125,89,0,342,57,92,1839,-51,0,-210,215,4335,0,563,407,6836,61,1018,322,-258,93,1222,940,1,-56,103,1617,65,1,322,0,1914,-50,363,738,94,4314,562,34,2990,0,6512,0,953,141,507,-311,351,257,332,0,84,-509,5807,189,100,1034,0,1734,160,274,592,224,213,406,335,0,120,1401,1377,201,1788,-89,686,2413,-378,779,681,0,559,742,12223,314,83,1013,444,205,4279,243,0,61,625,1517,42,775,1,0,-204,4844,3723,0,18,729,794,210,0,860,21,7863,1248,1696,304,-243,-66,360,321,4696,1097,111,623,-320,-312,2388,997,96,296,-80,1,116,5559,0,68,3390,644,19,1481,1453,303,-9,3644,1057,1387,0,1851,0,673,4151,4840,2836,606,-314,134,292,183,-154,308,238,494,2850,7408,3756,51,2805,0,62,399,1513,559,599,134,5802,3309,378,13818,-167,342,5244,102,1350,1575,4527,4121,1138,398,778,797,0,-6,5260,797,383,805,7816,-3,127,-461,618,105,5828,408,0,130,297,5193,517,1648,5275,353,2081,2925,232,44,21522,582,12,5261,1442,549,136,0,208,1068,865,220,570,357,154,1539,113,3680,2923,982,444,505,1866,3885,147,1906,722,-663,0,402,0,0,2137,657,604,4048,235,116,0,5914,1351,1357,255,1575,1035,1365,5678,7668,136,81,454,59,5521,599,194,80,-50,196,381,46,-134,-311,758,848,896,2149,1287,23592,2079,2850,397,55]},\"selected\":{\"id\":\"3612\",\"type\":\"Selection\"},\"selection_policy\":{\"id\":\"3613\",\"type\":\"UnionRenderers\"}},\"id\":\"3586\",\"type\":\"ColumnDataSource\"},{\"attributes\":{\"text\":\"\"},\"id\":\"3592\",\"type\":\"Title\"},{\"attributes\":{},\"id\":\"3569\",\"type\":\"BasicTicker\"},{\"attributes\":{},\"id\":\"3629\",\"type\":\"Selection\"},{\"attributes\":{\"bottom_units\":\"screen\",\"fill_alpha\":{\"value\":0.5},\"fill_color\":{\"value\":\"lightgrey\"},\"left_units\":\"screen\",\"level\":\"overlay\",\"line_alpha\":{\"value\":1.0},\"line_color\":{\"value\":\"black\"},\"line_dash\":[4,4],\"line_width\":{\"value\":2},\"render_mode\":\"css\",\"right_units\":\"screen\",\"top_units\":\"screen\"},\"id\":\"3597\",\"type\":\"BoxAnnotation\"},{\"attributes\":{},\"id\":\"3613\",\"type\":\"UnionRenderers\"},{\"attributes\":{\"data_source\":{\"id\":\"3600\",\"type\":\"ColumnDataSource\"},\"glyph\":{\"id\":\"3601\",\"type\":\"Circle\"},\"hover_glyph\":null,\"muted_glyph\":null,\"nonselection_glyph\":{\"id\":\"3602\",\"type\":\"Circle\"},\"selection_glyph\":null,\"view\":{\"id\":\"3604\",\"type\":\"CDSView\"}},\"id\":\"3603\",\"type\":\"GlyphRenderer\"},{\"attributes\":{\"items\":[{\"id\":\"3599\",\"type\":\"LegendItem\"},{\"id\":\"3614\",\"type\":\"LegendItem\"}],\"location\":\"top_left\"},\"id\":\"3598\",\"type\":\"Legend\"},{\"attributes\":{\"axis_label\":\"balance\",\"formatter\":{\"id\":\"3594\",\"type\":\"BasicTickFormatter\"},\"ticker\":{\"id\":\"3569\",\"type\":\"BasicTicker\"}},\"id\":\"3568\",\"type\":\"LinearAxis\"},{\"attributes\":{},\"id\":\"3574\",\"type\":\"WheelZoomTool\"},{\"attributes\":{},\"id\":\"3564\",\"type\":\"BasicTicker\"},{\"attributes\":{\"callback\":null},\"id\":\"3557\",\"type\":\"DataRange1d\"},{\"attributes\":{},\"id\":\"3573\",\"type\":\"PanTool\"},{\"attributes\":{\"source\":{\"id\":\"3586\",\"type\":\"ColumnDataSource\"}},\"id\":\"3590\",\"type\":\"CDSView\"},{\"attributes\":{\"dimension\":1,\"grid_line_alpha\":0.3,\"ticker\":{\"id\":\"3569\",\"type\":\"BasicTicker\"}},\"id\":\"3572\",\"type\":\"Grid\"},{\"attributes\":{\"data_source\":{\"id\":\"3586\",\"type\":\"ColumnDataSource\"},\"glyph\":{\"id\":\"3587\",\"type\":\"Circle\"},\"hover_glyph\":null,\"muted_glyph\":null,\"nonselection_glyph\":{\"id\":\"3588\",\"type\":\"Circle\"},\"selection_glyph\":null,\"view\":{\"id\":\"3590\",\"type\":\"CDSView\"}},\"id\":\"3589\",\"type\":\"GlyphRenderer\"}],\"root_ids\":[\"3554\"]},\"title\":\"Bokeh Application\",\"version\":\"1.3.4\"}}';\n",
       "          var render_items = [{\"docid\":\"550e6159-47a7-4205-90e1-d435e8b01155\",\"roots\":{\"3554\":\"ad3782c4-4500-458c-a19d-d29ec1a12f19\"}}];\n",
       "          root.Bokeh.embed.embed_items(docs_json, render_items);\n",
       "        \n",
       "          }\n",
       "          if (root.Bokeh !== undefined) {\n",
       "            embed_document(root);\n",
       "          } else {\n",
       "            var attempts = 0;\n",
       "            var timer = setInterval(function(root) {\n",
       "              if (root.Bokeh !== undefined) {\n",
       "                embed_document(root);\n",
       "                clearInterval(timer);\n",
       "              }\n",
       "              attempts++;\n",
       "              if (attempts > 100) {\n",
       "                console.log(\"Bokeh: ERROR: Unable to run BokehJS code because BokehJS library is missing\");\n",
       "                clearInterval(timer);\n",
       "              }\n",
       "            }, 10, root)\n",
       "          }\n",
       "        })(window);\n",
       "      });\n",
       "    };\n",
       "    if (document.readyState != \"loading\") fn();\n",
       "    else document.addEventListener(\"DOMContentLoaded\", fn);\n",
       "  })();\n",
       "<\\/script>`\n",
       "                                var chartscript = el.childNodes[1]\n",
       "                                var s = document.createElement(\"script\")\n",
       "                                s.innerHTML = chartscript.innerHTML\n",
       "                                d.parentNode.insertBefore(s, d)\n",
       "                            }\n",
       "                        }\n",
       "                    }\n",
       "                    if (!window.Bokeh && !window.autoload){\n",
       "                        window.autoload=true;\n",
       "                        \n",
       "(function(root) {\n",
       "  function now() {\n",
       "    return new Date();\n",
       "  }\n",
       "\n",
       "  var force = 1;\n",
       "\n",
       "  if (typeof root._bokeh_onload_callbacks === \"undefined\" || force === true) {\n",
       "    root._bokeh_onload_callbacks = [];\n",
       "    root._bokeh_is_loading = undefined;\n",
       "  }\n",
       "\n",
       "  \n",
       "\n",
       "  \n",
       "  if (typeof (root._bokeh_timeout) === \"undefined\" || force === true) {\n",
       "    root._bokeh_timeout = Date.now() + 5000;\n",
       "    root._bokeh_failed_load = false;\n",
       "  }\n",
       "\n",
       "  var NB_LOAD_WARNING = {'data': {'text/html':\n",
       "     \"<div style='background-color: #fdd'>\\n\"+\n",
       "     \"<p>\\n\"+\n",
       "     \"BokehJS does not appear to have successfully loaded. If loading BokehJS from CDN, this \\n\"+\n",
       "     \"may be due to a slow or bad network connection. Possible fixes:\\n\"+\n",
       "     \"</p>\\n\"+\n",
       "     \"<ul>\\n\"+\n",
       "     \"<li>re-rerun `output_notebook()` to attempt to load from CDN again, or</li>\\n\"+\n",
       "     \"<li>use INLINE resources instead, as so:</li>\\n\"+\n",
       "     \"</ul>\\n\"+\n",
       "     \"<code>\\n\"+\n",
       "     \"from bokeh.resources import INLINE\\n\"+\n",
       "     \"output_notebook(resources=INLINE)\\n\"+\n",
       "     \"</code>\\n\"+\n",
       "     \"</div>\"}};\n",
       "\n",
       "  function display_loaded() {\n",
       "    var el = document.getElementById(\"\");\n",
       "    if (el != null) {\n",
       "      el.textContent = \"BokehJS is loading...\";\n",
       "    }\n",
       "    if (root.Bokeh !== undefined) {\n",
       "      if (el != null) {\n",
       "        el.textContent = \"BokehJS \" + root.Bokeh.version + \" successfully loaded.\";\n",
       "      }\n",
       "    } else if (Date.now() < root._bokeh_timeout) {\n",
       "      setTimeout(display_loaded, 100)\n",
       "    }\n",
       "  }\n",
       "\n",
       "\n",
       "  function run_callbacks() {\n",
       "    try {\n",
       "      root._bokeh_onload_callbacks.forEach(function(callback) {\n",
       "        if (callback != null)\n",
       "          callback();\n",
       "      });\n",
       "    } finally {\n",
       "      delete root._bokeh_onload_callbacks\n",
       "    }\n",
       "    console.debug(\"Bokeh: all callbacks have finished\");\n",
       "  }\n",
       "\n",
       "  function load_libs(css_urls, js_urls, callback) {\n",
       "    if (css_urls == null) css_urls = [];\n",
       "    if (js_urls == null) js_urls = [];\n",
       "\n",
       "    root._bokeh_onload_callbacks.push(callback);\n",
       "    if (root._bokeh_is_loading > 0) {\n",
       "      console.debug(\"Bokeh: BokehJS is being loaded, scheduling callback at\", now());\n",
       "      return null;\n",
       "    }\n",
       "    if (js_urls == null || js_urls.length === 0) {\n",
       "      run_callbacks();\n",
       "      return null;\n",
       "    }\n",
       "    console.debug(\"Bokeh: BokehJS not loaded, scheduling load and callback at\", now());\n",
       "    root._bokeh_is_loading = css_urls.length + js_urls.length;\n",
       "\n",
       "    function on_load() {\n",
       "      root._bokeh_is_loading--;\n",
       "      if (root._bokeh_is_loading === 0) {\n",
       "        console.debug(\"Bokeh: all BokehJS libraries/stylesheets loaded\");\n",
       "        run_callbacks()\n",
       "      }\n",
       "    }\n",
       "\n",
       "    function on_error() {\n",
       "      console.error(\"failed to load \" + url);\n",
       "    }\n",
       "\n",
       "    for (var i = 0; i < css_urls.length; i++) {\n",
       "      var url = css_urls[i];\n",
       "      const element = document.createElement(\"link\");\n",
       "      element.onload = on_load;\n",
       "      element.onerror = on_error;\n",
       "      element.rel = \"stylesheet\";\n",
       "      element.type = \"text/css\";\n",
       "      element.href = url;\n",
       "      console.debug(\"Bokeh: injecting link tag for BokehJS stylesheet: \", url);\n",
       "      document.body.appendChild(element);\n",
       "    }\n",
       "\n",
       "    for (var i = 0; i < js_urls.length; i++) {\n",
       "      var url = js_urls[i];\n",
       "      var element = document.createElement('script');\n",
       "      element.onload = on_load;\n",
       "      element.onerror = on_error;\n",
       "      element.async = false;\n",
       "      element.src = url;\n",
       "      console.debug(\"Bokeh: injecting script tag for BokehJS library: \", url);\n",
       "      document.head.appendChild(element);\n",
       "    }\n",
       "  };\n",
       "\n",
       "  function inject_raw_css(css) {\n",
       "    const element = document.createElement(\"style\");\n",
       "    element.appendChild(document.createTextNode(css));\n",
       "    document.body.appendChild(element);\n",
       "  }\n",
       "\n",
       "  var js_urls = [\"https://cdn.pydata.org/bokeh/release/bokeh-1.3.4.min.js\", \"https://cdn.pydata.org/bokeh/release/bokeh-widgets-1.3.4.min.js\", \"https://cdn.pydata.org/bokeh/release/bokeh-tables-1.3.4.min.js\", \"https://cdn.pydata.org/bokeh/release/bokeh-gl-1.3.4.min.js\"];\n",
       "  var css_urls = [];\n",
       "\n",
       "  var inline_js = [\n",
       "    function(Bokeh) {\n",
       "      Bokeh.set_log_level(\"info\");\n",
       "    },\n",
       "    function(Bokeh) {} // ensure no trailing comma for IE\n",
       "  ];\n",
       "\n",
       "  function run_inline_js() {\n",
       "    \n",
       "    if ((root.Bokeh !== undefined) || (force === true)) {\n",
       "      for (var i = 0; i < inline_js.length; i++) {\n",
       "        inline_js[i].call(root, root.Bokeh);\n",
       "      }} else if (Date.now() < root._bokeh_timeout) {\n",
       "      setTimeout(run_inline_js, 100);\n",
       "    } else if (!root._bokeh_failed_load) {\n",
       "      console.log(\"Bokeh: BokehJS failed to load within specified timeout.\");\n",
       "      root._bokeh_failed_load = true;\n",
       "    } else if (force !== true) {\n",
       "      var cell = $(document.getElementById(\"\")).parents('.cell').data().cell;\n",
       "      cell.output_area.append_execute_result(NB_LOAD_WARNING)\n",
       "    }\n",
       "\n",
       "  }\n",
       "\n",
       "  if (root._bokeh_is_loading === 0) {\n",
       "    console.debug(\"Bokeh: BokehJS loaded, going straight to plotting\");\n",
       "    run_inline_js();\n",
       "  } else {\n",
       "    load_libs(css_urls, js_urls, function() {\n",
       "      console.debug(\"Bokeh: BokehJS plotting callback run at\", now());\n",
       "      run_inline_js();\n",
       "    });\n",
       "  }\n",
       "}(window));\n",
       "                    }\n",
       "                    setChartScript()\n",
       "                    </script>\n",
       "                    <script>\n",
       "  (function() {\n",
       "    var fn = function() {\n",
       "      Bokeh.safely(function() {\n",
       "        (function(root) {\n",
       "          function embed_document(root) {\n",
       "            \n",
       "          var docs_json = '{\"550e6159-47a7-4205-90e1-d435e8b01155\":{\"roots\":{\"references\":[{\"attributes\":{\"label\":{\"value\":\"no\"},\"renderers\":[{\"id\":\"3589\",\"type\":\"GlyphRenderer\"}]},\"id\":\"3599\",\"type\":\"LegendItem\"},{\"attributes\":{\"below\":[{\"id\":\"3563\",\"type\":\"LinearAxis\"}],\"center\":[{\"id\":\"3567\",\"type\":\"Grid\"},{\"id\":\"3572\",\"type\":\"Grid\"},{\"id\":\"3598\",\"type\":\"Legend\"}],\"left\":[{\"id\":\"3568\",\"type\":\"LinearAxis\"}],\"plot_height\":450,\"plot_width\":604,\"renderers\":[{\"id\":\"3589\",\"type\":\"GlyphRenderer\"},{\"id\":\"3603\",\"type\":\"GlyphRenderer\"}],\"title\":{\"id\":\"3592\",\"type\":\"Title\"},\"toolbar\":{\"id\":\"3579\",\"type\":\"Toolbar\"},\"x_range\":{\"id\":\"3555\",\"type\":\"DataRange1d\"},\"x_scale\":{\"id\":\"3559\",\"type\":\"LinearScale\"},\"y_range\":{\"id\":\"3557\",\"type\":\"DataRange1d\"},\"y_scale\":{\"id\":\"3561\",\"type\":\"LinearScale\"}},\"id\":\"3554\",\"subtype\":\"Figure\",\"type\":\"Plot\"},{\"attributes\":{\"fill_alpha\":{\"value\":0.1},\"fill_color\":{\"value\":\"#1f77b4\"},\"line_alpha\":{\"value\":0.1},\"line_color\":{\"value\":\"#1f77b4\"},\"size\":{\"units\":\"screen\",\"value\":8},\"x\":{\"field\":\"x\"},\"y\":{\"field\":\"y\"}},\"id\":\"3588\",\"type\":\"Circle\"},{\"attributes\":{\"source\":{\"id\":\"3600\",\"type\":\"ColumnDataSource\"}},\"id\":\"3604\",\"type\":\"CDSView\"},{\"attributes\":{\"callback\":null,\"data\":{\"x\":[18,19,20,20,20,20,21,22,22,23,23,23,23,23,23,24,24,24,24,24,24,24,24,25,25,25,25,25,25,25,25,26,26,26,26,26,26,26,26,26,27,27,27,27,27,27,27,27,27,28,28,28,28,28,28,28,28,28,28,28,28,28,28,29,29,29,29,29,29,29,29,29,29,29,29,29,29,29,29,29,30,30,30,30,30,30,30,30,30,30,30,30,30,30,30,30,30,30,30,30,30,30,30,30,30,30,30,30,30,30,30,31,31,31,31,31,31,31,31,31,31,31,31,31,31,31,31,31,31,31,31,31,31,31,31,31,32,32,32,32,32,32,32,32,32,32,32,32,32,32,32,32,32,32,33,33,33,33,33,33,33,33,33,33,33,33,33,34,34,34,34,34,34,34,34,34,34,34,34,34,34,34,34,34,34,35,35,35,35,35,35,35,35,35,35,35,35,35,35,35,35,36,36,36,36,36,36,36,36,36,36,36,36,36,36,36,36,36,36,36,37,37,37,37,37,37,37,37,37,37,37,37,37,37,37,37,37,38,38,38,38,38,38,38,38,38,38,39,39,39,39,39,39,39,39,39,39,39,40,40,40,40,40,40,40,40,41,41,41,41,41,41,41,41,41,41,41,42,42,42,42,42,42,42,42,42,42,42,42,42,42,42,43,43,43,43,43,43,43,44,44,44,44,44,44,45,45,45,45,45,45,46,46,46,46,46,46,46,46,46,46,46,46,46,46,46,46,46,46,46,46,47,47,47,47,47,47,47,47,47,47,47,47,47,47,48,48,48,48,48,48,48,48,48,48,49,49,49,49,49,49,49,49,49,49,50,50,50,50,51,51,51,51,51,52,52,52,52,52,52,52,52,53,53,53,53,53,53,53,53,53,53,53,54,54,54,54,54,54,54,54,54,54,54,55,55,55,55,55,56,56,56,56,56,56,56,57,57,57,57,57,57,58,58,58,58,58,58,58,58,59,59,59,59,59,59,59,59,59,59,60,60,60,60,60,60,60,60,60,60,60,60,60,61,61,61,62,63,64,64,64,64,64,65,66,66,66,66,70,71,71,71,72,72,72,73,73,75,75,75,76,76,76,76,76,77,77,77,77,78,78,80,81,83,84,84],\"y\":[108,134,215,423,6991,1819,123,3472,216,794,4,780,107,272,381,-389,3415,2845,167,2984,689,174,1,162,108,303,2816,0,1608,483,154,1595,222,941,1006,5169,409,111,3466,2007,2486,409,265,9,643,3792,931,107,667,-7,4099,223,2736,1633,832,128,-46,387,198,3623,227,41,759,464,706,1070,9407,437,1445,1026,2870,476,0,36252,694,814,307,3290,224,339,4684,3340,48,1159,2166,302,2424,415,2371,4328,863,2145,536,3300,178,4889,8089,1028,0,297,7773,5359,914,6281,3343,158,799,655,916,201,232,3950,165,671,454,3160,59,26965,636,2910,3338,2616,144,1088,138,4198,3511,1761,360,924,196,684,-35,147,2,9421,791,121,654,131,4654,53,2340,152,311,634,769,131,136,718,-53,1026,562,819,1323,127,127,2240,409,3161,5,1636,73,114,379,616,-370,320,1076,158,182,79,0,1076,1759,634,589,0,0,575,-701,0,806,271,528,978,1201,1750,204,618,193,3623,102,2779,0,127,1792,1162,670,71,353,1177,11650,521,4844,495,-308,3221,4,0,15485,9,849,436,1822,40,393,96,0,1766,175,1113,197,2061,444,565,1291,1000,1000,238,792,62,2722,141,0,728,3326,217,226,238,508,775,19,199,3278,0,385,2983,942,2263,10685,15,0,1425,3840,2763,1047,-114,2998,334,694,2129,0,72,1535,7968,580,0,75,431,231,1077,27696,0,1,965,5517,3403,14282,970,-215,36,576,7560,94,527,684,366,0,2129,294,2611,0,2160,1612,413,3518,11891,774,250,1534,397,2557,36,982,-311,-525,7895,2552,1831,594,2466,273,536,7331,4,332,706,640,5862,149,1144,640,5511,4329,659,-522,219,-90,368,11385,66,2351,3480,405,820,3696,182,4227,8229,1996,2749,0,2408,2601,2266,1730,318,719,863,4415,5320,0,-92,50,518,5887,1946,1718,3371,5689,395,320,5802,10613,4855,4979,3608,396,0,1801,7180,1994,538,4675,2557,-468,1708,659,3687,1524,-309,1443,104,-291,109,50,980,5603,654,597,1624,1982,0,1693,8295,114,602,300,-315,2206,1561,10185,118,0,4,113,-375,962,1938,830,9367,0,1947,3391,616,3043,7554,9367,3585,2887,0,776,2538,565,3027,3109,1257,1547,25,259,4744,739,145,1,1033,496,1625,116,3648,362,0,3735,957,975,73,-71,4256,18967,1262,938,1047,259,3140,56,11,4562,1612,4787,661,466,48,5112,2331,3701,154,2540,1230,44,1696,275,1729,763,1533,0,2850,448,6027,1341,6027,4112,2693,3049,3324,802,820,3324,7802,4659,4807,3219,997,949,425,4761,0]},\"selected\":{\"id\":\"3629\",\"type\":\"Selection\"},\"selection_policy\":{\"id\":\"3630\",\"type\":\"UnionRenderers\"}},\"id\":\"3600\",\"type\":\"ColumnDataSource\"},{\"attributes\":{},\"id\":\"3630\",\"type\":\"UnionRenderers\"},{\"attributes\":{\"grid_line_alpha\":0.3,\"ticker\":{\"id\":\"3564\",\"type\":\"BasicTicker\"}},\"id\":\"3567\",\"type\":\"Grid\"},{\"attributes\":{},\"id\":\"3561\",\"type\":\"LinearScale\"},{\"attributes\":{\"overlay\":{\"id\":\"3597\",\"type\":\"BoxAnnotation\"}},\"id\":\"3575\",\"type\":\"BoxZoomTool\"},{\"attributes\":{\"fill_alpha\":{\"value\":0.1},\"fill_color\":{\"value\":\"#1f77b4\"},\"line_alpha\":{\"value\":0.1},\"line_color\":{\"value\":\"#1f77b4\"},\"size\":{\"units\":\"screen\",\"value\":8},\"x\":{\"field\":\"x\"},\"y\":{\"field\":\"y\"}},\"id\":\"3602\",\"type\":\"Circle\"},{\"attributes\":{\"fill_alpha\":{\"value\":0.5},\"fill_color\":{\"value\":\"#ff7f0e\"},\"line_color\":{\"value\":\"#ff7f0e\"},\"size\":{\"units\":\"screen\",\"value\":8},\"x\":{\"field\":\"x\"},\"y\":{\"field\":\"y\"}},\"id\":\"3601\",\"type\":\"Circle\"},{\"attributes\":{\"axis_label\":\"age\",\"formatter\":{\"id\":\"3596\",\"type\":\"BasicTickFormatter\"},\"ticker\":{\"id\":\"3564\",\"type\":\"BasicTicker\"}},\"id\":\"3563\",\"type\":\"LinearAxis\"},{\"attributes\":{},\"id\":\"3612\",\"type\":\"Selection\"},{\"attributes\":{\"fill_alpha\":{\"value\":0.5},\"fill_color\":{\"value\":\"#1f77b4\"},\"line_color\":{\"value\":\"#1f77b4\"},\"size\":{\"units\":\"screen\",\"value\":8},\"x\":{\"field\":\"x\"},\"y\":{\"field\":\"y\"}},\"id\":\"3587\",\"type\":\"Circle\"},{\"attributes\":{},\"id\":\"3577\",\"type\":\"ResetTool\"},{\"attributes\":{\"label\":{\"value\":\"yes\"},\"renderers\":[{\"id\":\"3603\",\"type\":\"GlyphRenderer\"}]},\"id\":\"3614\",\"type\":\"LegendItem\"},{\"attributes\":{\"callback\":null,\"tooltips\":[[\"age\",\"@x\"],[\"balance\",\"@y\"]]},\"id\":\"3615\",\"type\":\"HoverTool\"},{\"attributes\":{\"callback\":null},\"id\":\"3555\",\"type\":\"DataRange1d\"},{\"attributes\":{\"active_drag\":\"auto\",\"active_inspect\":\"auto\",\"active_multi\":null,\"active_scroll\":\"auto\",\"active_tap\":\"auto\",\"tools\":[{\"id\":\"3573\",\"type\":\"PanTool\"},{\"id\":\"3574\",\"type\":\"WheelZoomTool\"},{\"id\":\"3575\",\"type\":\"BoxZoomTool\"},{\"id\":\"3576\",\"type\":\"SaveTool\"},{\"id\":\"3577\",\"type\":\"ResetTool\"},{\"id\":\"3578\",\"type\":\"HelpTool\"},{\"id\":\"3615\",\"type\":\"HoverTool\"}]},\"id\":\"3579\",\"type\":\"Toolbar\"},{\"attributes\":{},\"id\":\"3576\",\"type\":\"SaveTool\"},{\"attributes\":{},\"id\":\"3559\",\"type\":\"LinearScale\"},{\"attributes\":{},\"id\":\"3594\",\"type\":\"BasicTickFormatter\"},{\"attributes\":{},\"id\":\"3596\",\"type\":\"BasicTickFormatter\"},{\"attributes\":{},\"id\":\"3578\",\"type\":\"HelpTool\"},{\"attributes\":{\"callback\":null,\"data\":{\"x\":[20,21,23,23,24,24,24,25,25,25,25,25,26,26,26,26,26,26,26,27,27,27,27,27,27,27,27,27,27,27,27,27,27,27,28,28,28,28,28,28,29,29,29,29,29,29,30,30,30,30,30,30,30,30,30,30,30,30,30,30,30,30,30,30,30,30,30,30,30,31,31,31,31,31,31,31,31,31,31,31,31,31,31,31,31,31,31,31,32,32,32,32,32,32,32,32,32,32,32,32,32,32,32,32,32,32,32,32,32,32,32,33,33,33,33,33,33,33,33,33,33,33,33,33,33,33,33,33,33,33,33,33,33,34,34,34,34,34,34,34,34,34,34,34,34,34,34,34,34,34,34,34,34,34,34,34,34,34,34,34,34,35,35,35,35,35,35,35,35,35,35,35,35,35,35,35,35,35,35,35,35,35,35,35,35,35,35,35,36,36,36,36,36,36,36,36,36,36,36,36,36,36,36,36,36,36,36,36,36,36,36,36,36,36,37,37,37,37,37,37,37,37,37,37,37,38,38,38,38,38,38,38,38,38,38,38,38,38,38,38,38,38,38,38,38,38,38,38,39,39,39,39,39,39,39,39,39,39,39,39,39,39,39,39,39,39,39,39,40,40,40,40,40,40,40,40,40,40,40,40,40,40,40,41,41,41,41,41,41,41,41,41,41,41,41,41,41,42,42,42,42,42,42,42,42,42,42,42,42,42,42,43,43,43,43,43,43,43,43,43,43,43,43,43,44,44,44,44,44,44,44,44,45,45,45,45,45,45,45,45,45,45,45,45,45,46,46,46,46,46,46,46,46,47,47,47,47,47,47,47,47,47,47,47,47,47,47,47,47,48,48,48,48,48,48,48,48,48,48,48,48,48,48,48,48,48,48,48,49,49,49,49,49,49,49,49,49,49,49,50,50,50,50,50,50,50,50,50,50,50,50,51,51,51,51,51,51,52,52,52,52,52,52,52,52,52,52,52,52,53,53,53,53,53,53,53,53,53,53,53,53,53,54,55,55,55,55,55,55,55,55,56,56,56,56,56,56,56,56,57,57,57,57,57,57,57,57,58,58,58,58,58,58,58,58,59,59,59,59,59,59,59,59,59,59,59,60,60,60,60,60,60,60,60,60,61,63,66,67,69,72,73,77,78],\"y\":[336,137,-213,2605,0,541,3,1182,220,483,628,76,-326,1327,2,2170,199,428,3247,4869,-3,454,3060,446,266,11862,16,3196,3955,139,21,7102,54,0,120,373,60,708,5215,157,111,150,242,-11,67,53,167,46,3,457,2876,2702,-27,282,426,673,0,162,134,138,1675,486,1510,13774,1649,265,-250,0,1032,424,0,1170,1308,1329,-463,6374,477,54,471,322,1129,-159,596,41,383,43,304,165,787,315,0,1349,129,71,1477,1996,253,4344,1630,-208,1097,367,258,0,240,-114,-273,833,0,337,1426,2,0,584,177,777,387,-346,5641,438,5,0,0,-306,369,7,447,348,588,480,333,867,23,5547,261,2427,664,479,46,5299,39,8,1310,105,430,17672,34,1246,27,1504,920,714,1636,179,36,1313,157,2658,3723,-292,1499,992,457,3854,354,1193,1309,120,3443,1728,183,5271,1416,1067,524,33,1054,2080,3,1800,97,0,16,4366,0,149,-482,270,1345,911,806,0,-92,191,202,4388,243,5024,243,1089,1027,0,1327,9324,0,242,810,1127,928,0,442,1898,0,1257,-666,0,796,5432,744,509,1125,89,0,342,57,92,1839,-51,0,-210,215,4335,0,563,407,6836,61,1018,322,-258,93,1222,940,1,-56,103,1617,65,1,322,0,1914,-50,363,738,94,4314,562,34,2990,0,6512,0,953,141,507,-311,351,257,332,0,84,-509,5807,189,100,1034,0,1734,160,274,592,224,213,406,335,0,120,1401,1377,201,1788,-89,686,2413,-378,779,681,0,559,742,12223,314,83,1013,444,205,4279,243,0,61,625,1517,42,775,1,0,-204,4844,3723,0,18,729,794,210,0,860,21,7863,1248,1696,304,-243,-66,360,321,4696,1097,111,623,-320,-312,2388,997,96,296,-80,1,116,5559,0,68,3390,644,19,1481,1453,303,-9,3644,1057,1387,0,1851,0,673,4151,4840,2836,606,-314,134,292,183,-154,308,238,494,2850,7408,3756,51,2805,0,62,399,1513,559,599,134,5802,3309,378,13818,-167,342,5244,102,1350,1575,4527,4121,1138,398,778,797,0,-6,5260,797,383,805,7816,-3,127,-461,618,105,5828,408,0,130,297,5193,517,1648,5275,353,2081,2925,232,44,21522,582,12,5261,1442,549,136,0,208,1068,865,220,570,357,154,1539,113,3680,2923,982,444,505,1866,3885,147,1906,722,-663,0,402,0,0,2137,657,604,4048,235,116,0,5914,1351,1357,255,1575,1035,1365,5678,7668,136,81,454,59,5521,599,194,80,-50,196,381,46,-134,-311,758,848,896,2149,1287,23592,2079,2850,397,55]},\"selected\":{\"id\":\"3612\",\"type\":\"Selection\"},\"selection_policy\":{\"id\":\"3613\",\"type\":\"UnionRenderers\"}},\"id\":\"3586\",\"type\":\"ColumnDataSource\"},{\"attributes\":{\"text\":\"\"},\"id\":\"3592\",\"type\":\"Title\"},{\"attributes\":{},\"id\":\"3569\",\"type\":\"BasicTicker\"},{\"attributes\":{},\"id\":\"3629\",\"type\":\"Selection\"},{\"attributes\":{\"bottom_units\":\"screen\",\"fill_alpha\":{\"value\":0.5},\"fill_color\":{\"value\":\"lightgrey\"},\"left_units\":\"screen\",\"level\":\"overlay\",\"line_alpha\":{\"value\":1.0},\"line_color\":{\"value\":\"black\"},\"line_dash\":[4,4],\"line_width\":{\"value\":2},\"render_mode\":\"css\",\"right_units\":\"screen\",\"top_units\":\"screen\"},\"id\":\"3597\",\"type\":\"BoxAnnotation\"},{\"attributes\":{},\"id\":\"3613\",\"type\":\"UnionRenderers\"},{\"attributes\":{\"data_source\":{\"id\":\"3600\",\"type\":\"ColumnDataSource\"},\"glyph\":{\"id\":\"3601\",\"type\":\"Circle\"},\"hover_glyph\":null,\"muted_glyph\":null,\"nonselection_glyph\":{\"id\":\"3602\",\"type\":\"Circle\"},\"selection_glyph\":null,\"view\":{\"id\":\"3604\",\"type\":\"CDSView\"}},\"id\":\"3603\",\"type\":\"GlyphRenderer\"},{\"attributes\":{\"items\":[{\"id\":\"3599\",\"type\":\"LegendItem\"},{\"id\":\"3614\",\"type\":\"LegendItem\"}],\"location\":\"top_left\"},\"id\":\"3598\",\"type\":\"Legend\"},{\"attributes\":{\"axis_label\":\"balance\",\"formatter\":{\"id\":\"3594\",\"type\":\"BasicTickFormatter\"},\"ticker\":{\"id\":\"3569\",\"type\":\"BasicTicker\"}},\"id\":\"3568\",\"type\":\"LinearAxis\"},{\"attributes\":{},\"id\":\"3574\",\"type\":\"WheelZoomTool\"},{\"attributes\":{},\"id\":\"3564\",\"type\":\"BasicTicker\"},{\"attributes\":{\"callback\":null},\"id\":\"3557\",\"type\":\"DataRange1d\"},{\"attributes\":{},\"id\":\"3573\",\"type\":\"PanTool\"},{\"attributes\":{\"source\":{\"id\":\"3586\",\"type\":\"ColumnDataSource\"}},\"id\":\"3590\",\"type\":\"CDSView\"},{\"attributes\":{\"dimension\":1,\"grid_line_alpha\":0.3,\"ticker\":{\"id\":\"3569\",\"type\":\"BasicTicker\"}},\"id\":\"3572\",\"type\":\"Grid\"},{\"attributes\":{\"data_source\":{\"id\":\"3586\",\"type\":\"ColumnDataSource\"},\"glyph\":{\"id\":\"3587\",\"type\":\"Circle\"},\"hover_glyph\":null,\"muted_glyph\":null,\"nonselection_glyph\":{\"id\":\"3588\",\"type\":\"Circle\"},\"selection_glyph\":null,\"view\":{\"id\":\"3590\",\"type\":\"CDSView\"}},\"id\":\"3589\",\"type\":\"GlyphRenderer\"}],\"root_ids\":[\"3554\"]},\"title\":\"Bokeh Application\",\"version\":\"1.3.4\"}}';\n",
       "          var render_items = [{\"docid\":\"550e6159-47a7-4205-90e1-d435e8b01155\",\"roots\":{\"3554\":\"ad3782c4-4500-458c-a19d-d29ec1a12f19\"}}];\n",
       "          root.Bokeh.embed.embed_items(docs_json, render_items);\n",
       "        \n",
       "          }\n",
       "          if (root.Bokeh !== undefined) {\n",
       "            embed_document(root);\n",
       "          } else {\n",
       "            var attempts = 0;\n",
       "            var timer = setInterval(function(root) {\n",
       "              if (root.Bokeh !== undefined) {\n",
       "                embed_document(root);\n",
       "                clearInterval(timer);\n",
       "              }\n",
       "              attempts++;\n",
       "              if (attempts > 100) {\n",
       "                console.log(\"Bokeh: ERROR: Unable to run BokehJS code because BokehJS library is missing\");\n",
       "                clearInterval(timer);\n",
       "              }\n",
       "            }, 10, root)\n",
       "          }\n",
       "        })(window);\n",
       "      });\n",
       "    };\n",
       "    if (document.readyState != \"loading\") fn();\n",
       "    else document.addEventListener(\"DOMContentLoaded\", fn);\n",
       "  })();\n",
       "</script><div style=\"padding:5px\" id=\"pd-bkchartdiv-77db9002\">\n",
       "<div class=\"bk-root\" id=\"ad3782c4-4500-458c-a19d-d29ec1a12f19\" data-root-id=\"3554\"></div></div>\n",
       "                    \n",
       "                \n",
       "        </div>"
      ],
      "text/plain": [
       "<IPython.core.display.HTML object>"
      ]
     },
     "metadata": {},
     "output_type": "display_data"
    }
   ],
   "source": [
    "display(data)"
   ]
  },
  {
   "cell_type": "code",
   "execution_count": 15,
   "metadata": {},
   "outputs": [],
   "source": [
    "#pip install pixiegateway"
   ]
  },
  {
   "cell_type": "code",
   "execution_count": null,
   "metadata": {},
   "outputs": [],
   "source": [
    "##################################################################################"
   ]
  },
  {
   "cell_type": "code",
   "execution_count": null,
   "metadata": {
    "pixiedust": {
     "displayParams": {}
    }
   },
   "outputs": [
    {
     "data": {
      "text/html": [
       "<style type=\"text/css\">.pd_warning{display:none;}</style><div class=\"pd_warning\"><em>Hey, there's something awesome here! To see it, open this notebook outside GitHub, in a viewer like Jupyter</em></div>"
      ],
      "text/plain": [
       "<IPython.core.display.HTML object>"
      ]
     },
     "metadata": {
      "pixieapp_metadata": null
     },
     "output_type": "display_data"
    }
   ],
   "source": [
    "from pixiedust.display.app import *\n",
    "\n",
    "@PixieApp\n",
    "class GitHubTracking():\n",
    "    @route()\n",
    "    def main_screen(self):\n",
    "        return \"\"\"\n",
    "<style>\n",
    "    div.outer-wrapper {\n",
    "        display: table;width:100%;height:300px;\n",
    "    }\n",
    "    div.inner-wrapper {\n",
    "        display: table-cell;vertical-align: middle;height: 100%;width: 100%;\n",
    "    }\n",
    "</style>\n",
    "<div class=\"outer-wrapper\">\n",
    "    <div class=\"inner-wrapper\">\n",
    "        <div class=\"col-sm-3\"></div>\n",
    "        <div class=\"input-group col-sm-6\">\n",
    "          <input id=\"query{{prefix}}\" type=\"text\" class=\"form-control\" placeholder=\"Search projects on GitHub\">\n",
    "          <span class=\"input-group-btn\">\n",
    "            <button class=\"btn btn-default\" type=\"button\">Submit Query</button>\n",
    "          </span>\n",
    "        </div>\n",
    "    </div>\n",
    "</div>   \n",
    "\n",
    "\n",
    "\"\"\"\n",
    "app = GitHubTracking()\n",
    "app.run()"
   ]
  },
  {
   "cell_type": "code",
   "execution_count": 10,
   "metadata": {},
   "outputs": [],
   "source": [
    "import requests\n",
    "import pandas\n",
    "[[GitHubTracking]]\n",
    "@route(query=\"*\")\n",
    "@templateArgs\n",
    "def do_search(self, query):\n",
    "    response = requests.get( \"https://api.github.com/search/repositories?q={}\".format(query))\n",
    "    frames = [pandas.DataFrame(response.json()['items'])]\n",
    "    while response.ok and \"next\" in response.links:\n",
    "        response = requests.get(response.links['next']['url'])\n",
    "        frames.append(pandas.DataFrame(response.json()['items']))\n",
    "\n",
    "    pdf = pandas.concat(frames)\n",
    "    response = requests.get( \"https://api.github.com/search/repositories?q={}\".format(query))\n",
    "    if not response.ok:\n",
    "        return \"<div>An Error occurred: {{response.text}}</div>\"\n",
    "    return \"\"\"<h1><center>{{pdf|length}} repositories were found</center></h1>\"\"\""
   ]
  },
  {
   "cell_type": "code",
   "execution_count": 14,
   "metadata": {},
   "outputs": [],
   "source": [
    "[[GitHubTracking]]\n",
    "@route(query=\"*\")\n",
    "@templateArgs\n",
    "def do_search(self, query):\n",
    "    self.first_url = \"https://api.github.com/search/repositories?q={}\".format(query)\n",
    "    self.prev_url = None\n",
    "    self.next_url = None\n",
    "    self.last_url = None\n",
    "    \n",
    "    response = requests.get(self.first_url)\n",
    "    if not response.ok:\n",
    "        return \"<div>An Error occurred: {{response.text}}</div>\"\n",
    "\n",
    "    total_count = response.json()['total_count']\n",
    "    self.next_url = response.links.get('next', {}).get('url', None)\n",
    "    self.last_url = response.links.get('last', {}).get('url', None)\n",
    "    return \"\"\"\n",
    "<h1><center>{{total_count}} repositories were found</center></h1>\n",
    "<ul class=\"pagination\">\n",
    "  <li><a href=\"#\" pd_options=\"page=first_url\" pd_target=\"body{{prefix}}\">First</a></li>\n",
    "  <li><a href=\"#\" pd_options=\"page=prev_url\" pd_target=\"body{{prefix}}\">Prev</a></li>\n",
    "  <li><a href=\"#\" pd_options=\"page=next_url\" pd_target=\"body{{prefix}}\">Next</a></li>\n",
    "  <li><a href=\"#\" pd_options=\"page=last_url\" pd_target=\"body{{prefix}}\">Last</a></li>\n",
    "</ul>\n",
    "<table class=\"table\">\n",
    "    <thead>\n",
    "        <tr>\n",
    "            <th>Repo Name</th>\n",
    "            <th>Lastname</th>\n",
    "            <th>URL</th>\n",
    "            <th>Stars</th>\n",
    "        </tr>\n",
    "    </thead>\n",
    "    <tbody id=\"body{{prefix}}\">\n",
    "        {{this.invoke_route(this.do_retrieve_page, page='first_url')}}\n",
    "    </tbody>\n",
    "</table>\n",
    "\"\"\""
   ]
  },
  {
   "cell_type": "code",
   "execution_count": 17,
   "metadata": {},
   "outputs": [],
   "source": [
    "[[GitHubTracking]]\n",
    "@route(page=\"*\")\n",
    "@templateArgs\n",
    "def do_retrieve_page(self, page):\n",
    "    url = getattr(self, page)\n",
    "    if url is None:\n",
    "        return \"<div>No more rows</div>\"\n",
    "    response = requests.get(url)\n",
    "    self.prev_url = response.links.get('prev', {}).get('url', None)\n",
    "    self.next_url = response.links.get('next', {}).get('url', None)\n",
    "    items = response.json()['items']\n",
    "    return \"\"\"\n",
    "{%for row in items%}\n",
    "<tr>\n",
    "    <td>{{row['name']}}</td>\n",
    "    <td>{{row.get('owner',{}).get('login', 'N/A')}}</td>\n",
    "    <td><a href=\"{{row['html_url']}}\" target=\"_blank\">{{row['html_url']}}</a></td>\n",
    "    <td>{{row['stargazers_count']}}</td>\n",
    "</tr>\n",
    "{%endfor%}\n",
    "        \"\"\""
   ]
  },
  {
   "cell_type": "code",
   "execution_count": 21,
   "metadata": {
    "pixiedust": {
     "displayParams": {}
    }
   },
   "outputs": [
    {
     "data": {
      "text/html": [
       "<div class=\"pixiedust\" pixiedust=\"{&quot;prefix&quot;: &quot;1b0c98e1&quot;, &quot;command&quot;: &quot;display(app,nostore_pixieapp=&apos;app&apos;,nostore_ispix=&apos;true&apos;,runInDialog=&apos;false&apos;,handlerId=&apos;__main___RepoAnalysis_id&apos;,cell_id=&apos;0f78a43acf5e4b4e8fe1a84bc08504ed&apos;,nostore_pixiedust=&apos;true&apos;,nostore_cw=&apos;1098&apos;,nostore_vh=&apos;608&apos;,org_params=&apos;nostore_pixieapp,nostore_ispix,runInDialog,handlerId,nostore_pixiedust&apos;,nostore_bokeh=&apos;true&apos;)&quot;, &quot;entity&quot;: &quot;app&quot;, &quot;options&quot;: {&quot;nostore_pixieapp&quot;: &quot;app&quot;, &quot;nostore_ispix&quot;: &quot;true&quot;, &quot;runInDialog&quot;: &quot;false&quot;, &quot;handlerId&quot;: &quot;__main___RepoAnalysis_id&quot;, &quot;cell_id&quot;: &quot;0f78a43acf5e4b4e8fe1a84bc08504ed&quot;, &quot;nostore_pixiedust&quot;: &quot;true&quot;, &quot;nostore_cw&quot;: &quot;1098&quot;, &quot;nostore_vh&quot;: &quot;608&quot;, &quot;org_params&quot;: &quot;nostore_pixieapp,nostore_ispix,runInDialog,handlerId,nostore_pixiedust&quot;, &quot;nostore_bokeh&quot;: &quot;true&quot;}, &quot;sniffers&quot;: [&quot;{&apos;nostore_bokeh&apos;:!!window.Bokeh}&quot;], &quot;avoidMetadata&quot;: false, &quot;include_keys&quot;: [&quot;filter&quot;]}\">\n",
       "  \n",
       "  <button class=\"btn btn-default btn-sm expandButton\" data-toggle=\"collapse\"\n",
       "          data-target=\"#pixiedust-output-wrapper-1b0c98e1\" title=\"Expand/Collapse Pixiedust output\">\n",
       "    <i class=\"fa\"></i>\n",
       "  </button>\n",
       "  \n",
       "  <button pd_app=\"pixiedust.apps.gateway.publish.PublishApp\" pd_options=\"runInDialog=true;title=Publish PixieApp\" class=\"btn btn-default btn-sm no_loading_msg\" style=\"z-index:999;float:right;width: initial;background-color:transparent;\n",
       "    border: 0 none;font-size: 15px;padding: 0; position: relative; right: 0; text-align: right;top: 0;\" title=\"Publish PixieApp\">\n",
       "    <i class=\"fa fa-plug no_loading_msg\"></i>\n",
       "  </button>\n",
       "  <button pd_refresh class=\"btn btn-default btn-sm no_loading_msg\" style=\"z-index:999;float:right;width: initial;background-color:transparent;\n",
       "    border: 0 none;font-size: 15px;padding: 0; position: relative; right: 0; text-align: right;top: 0;\" title=\"Restart PixieApp\">\n",
       "    <i class=\"fa fa-home no_loading_msg\"></i>\n",
       "  </button>\n",
       "  \n",
       "  \n",
       "  <div id=\"pixiedust-output-wrapper-1b0c98e1\" class=\"pixiedust-output-wrapper collapse in\">\n",
       "    \n",
       "    <div id=\"wrapperJS1b0c98e1\"></div>\n",
       "    <div id=\"wrapperHTML1b0c98e1\" class=\"pixiedustWrapperHTML\" pd_init\n",
       "        pixiedust=\"{&quot;prefix&quot;: &quot;1b0c98e1&quot;, &quot;command&quot;: &quot;display(app,nostore_pixieapp=&apos;app&apos;,nostore_ispix=&apos;true&apos;,runInDialog=&apos;false&apos;,handlerId=&apos;__main___RepoAnalysis_id&apos;,cell_id=&apos;0f78a43acf5e4b4e8fe1a84bc08504ed&apos;,nostore_pixiedust=&apos;true&apos;,nostore_cw=&apos;1098&apos;,nostore_vh=&apos;608&apos;,org_params=&apos;nostore_pixieapp,nostore_ispix,runInDialog,handlerId,nostore_pixiedust&apos;,nostore_bokeh=&apos;true&apos;)&quot;, &quot;entity&quot;: &quot;app&quot;, &quot;options&quot;: {&quot;nostore_pixieapp&quot;: &quot;app&quot;, &quot;nostore_ispix&quot;: &quot;true&quot;, &quot;runInDialog&quot;: &quot;false&quot;, &quot;handlerId&quot;: &quot;__main___RepoAnalysis_id&quot;, &quot;cell_id&quot;: &quot;0f78a43acf5e4b4e8fe1a84bc08504ed&quot;, &quot;nostore_pixiedust&quot;: &quot;true&quot;, &quot;nostore_cw&quot;: &quot;1098&quot;, &quot;nostore_vh&quot;: &quot;608&quot;, &quot;org_params&quot;: &quot;nostore_pixieapp,nostore_ispix,runInDialog,handlerId,nostore_pixiedust&quot;, &quot;nostore_bokeh&quot;: &quot;true&quot;}, &quot;sniffers&quot;: [&quot;{&apos;nostore_bokeh&apos;:!!window.Bokeh}&quot;], &quot;avoidMetadata&quot;: false, &quot;include_keys&quot;: [&quot;filter&quot;]}\" style=\"min-height:100px\"></div>\n",
       "  </div>\n",
       "</div>\n",
       "                    <script>\n",
       "                    (\n",
       "            \n",
       "            function(){\n",
       "                pixiedust.executeDisplay(\n",
       "                    {\"prefix\": \"1b0c98e1\", \"command\": \"display(app,nostore_pixieapp='app',nostore_ispix='true',runInDialog='false',handlerId='__main___RepoAnalysis_id',cell_id='0f78a43acf5e4b4e8fe1a84bc08504ed',nostore_pixiedust='true',nostore_cw='1098',nostore_vh='608',org_params='nostore_pixieapp,nostore_ispix,runInDialog,handlerId,nostore_pixiedust',nostore_bokeh='true',prefix='1b0c98e1')\", \"entity\": \"app\", \"options\": {\"nostore_pixieapp\": \"app\", \"nostore_ispix\": \"true\", \"runInDialog\": \"false\", \"handlerId\": \"__main___RepoAnalysis_id\", \"cell_id\": \"0f78a43acf5e4b4e8fe1a84bc08504ed\", \"nostore_pixiedust\": \"true\", \"nostore_cw\": \"1098\", \"nostore_vh\": \"608\", \"org_params\": \"nostore_pixieapp,nostore_ispix,runInDialog,handlerId,nostore_pixiedust\", \"nostore_bokeh\": \"true\", \"prefix\": \"1b0c98e1\"}, \"sniffers\": [\"{'nostore_bokeh':!!window.Bokeh}\"], \"avoidMetadata\": true, \"include_keys\": [\"filter\"]},\n",
       "                    {'targetDivId': 'wrapperHTML1b0c98e1' }\n",
       "                );\n",
       "            }\n",
       "            )();\n",
       "                    </script>\n",
       "                </div>"
      ],
      "text/plain": [
       "<IPython.core.display.HTML object>"
      ]
     },
     "metadata": {
      "pixieapp_metadata": null
     },
     "output_type": "display_data"
    }
   ],
   "source": [
    "@PixieApp\n",
    "class RepoAnalysis():\n",
    "    @route(analyse_repo_owner=\"*\", analyse_repo_name=\"*\")\n",
    "    @templateArgs\n",
    "    def do_analyse_repo(self, analyse_repo_owner, analyse_repo_name):\n",
    "        self._analyse_repo_owner = analyse_repo_owner\n",
    "        self._analyse_repo_name = analyse_repo_name\n",
    "        return \"\"\"\n",
    "<div class=\"container-fluid\">\n",
    "    <div class=\"dropdown center-block col-sm-2\">\n",
    "      <button class=\"btn btn-primary dropdown-toggle\" type=\"button\" data-toggle=\"dropdown\">\n",
    "          Select Repo Data Set\n",
    "          <span class=\"caret\"></span>\n",
    "      </button>\n",
    "      <ul class=\"dropdown-menu\" style=\"list-style:none;margin:0px;padding:0px\">\n",
    "          {%for analysis,_ in this.analyses%}\n",
    "            <li>\n",
    "                <a href=\"#\" pd_options=\"analyse_type={{analysis}}\" pd_target=\"analyse_vis{{prefix}}\"\n",
    "                    style=\"text-decoration: none;background-color:transparent\">\n",
    "                    {{analysis}}\n",
    "                </a>\n",
    "            </li>\n",
    "          {%endfor%}\n",
    "      </ul>\n",
    "    </div> \n",
    "    <div id=\"analyse_vis{{prefix}}\" class=\"col-sm-10\"></div>\n",
    "</div>\n",
    "\"\"\"\n",
    "app = RepoAnalysis()\n",
    "app.run()"
   ]
  },
  {
   "cell_type": "code",
   "execution_count": null,
   "metadata": {},
   "outputs": [],
   "source": []
  }
 ],
 "metadata": {
  "file_extension": ".py",
  "kernelspec": {
   "display_name": "Python 3",
   "language": "python",
   "name": "python3"
  },
  "language_info": {
   "codemirror_mode": {
    "name": "ipython",
    "version": 3
   },
   "file_extension": ".py",
   "mimetype": "text/x-python",
   "name": "python",
   "nbconvert_exporter": "python",
   "pygments_lexer": "ipython3",
   "version": "3.7.4"
  },
  "mimetype": "text/x-python",
  "name": "python",
  "npconvert_exporter": "python",
  "pygments_lexer": "ipython3",
  "version": 3
 },
 "nbformat": 4,
 "nbformat_minor": 2
}
